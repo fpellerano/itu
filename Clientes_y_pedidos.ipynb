{
  "cells": [
    {
      "cell_type": "markdown",
      "metadata": {
        "id": "piiX_CRNFYUi"
      },
      "source": [
        "# ¡Desafío técnico! Clientes y pedidos: ¡el alma de cualquier negocio!\n",
        "\n",
        "Este cuaderno depende de dos archivos de datos: customer.scv y orders.csv. Estos archivos están alojados en la nube (o Github), por lo que, para simplificar, le proporcionamos el código para descargar y guardar los dos archivos en una carpeta llamada 'sample_data' que se encuentra dentro de esta sesión de notebook (no en su computadora local ni Google Drive).\n",
        "\n",
        "![sample_data folder in notebook session](https://raw.githubusercontent.com/fpellerano/itu/main/sample_data_folder.png)\n",
        "\n",
        "Ejecute el primer fragmento de código antes de pasar al resto del ejercicio, ya que este código importará los datos de los archivos para que pueda ejecutar el resto del ejercicio.\n",
        "\n",
        "Recuerde, como dijimos en la lección anterior, debe guardar este cuaderno en su Google Drive yendo al menú Archivo/Guardar una copia en Drive, o haciendo clic en el botón \"Copiar a Drive\". De esta manera, no perderá ningún trabajo que haya realizado y el archivo persistirá con los últimos cambios en su Google Drive. También le recomendamos que cambie el nombre de su .ipynb en su Google Drive, para que pueda encontrarlo fácilmente en el futuro."
      ]
    },
    {
      "cell_type": "code",
      "execution_count": 3,
      "metadata": {
        "colab": {
          "base_uri": "https://localhost:8080/"
        },
        "id": "MWpVO242FQHC",
        "outputId": "f97ee150-581e-4ebc-9161-9542b70e8d56"
      },
      "outputs": [
        {
          "name": "stdout",
          "output_type": "stream",
          "text": [
            "Customers and orders CSV files have been added './sample_data'\n"
          ]
        }
      ],
      "source": [
        "import requests\n",
        "\n",
        "def import_data_files():\n",
        "  r = requests.get('https://raw.githubusercontent.com/fpellerano/itu/main/customers.csv')\n",
        "  with open('./sample_data/customers.csv', 'wb') as f:\n",
        "    f.write(r.content)\n",
        "  r = requests.get('https://raw.githubusercontent.com/fpellerano/itu/main/customers_and_orders/data/orders.csv')\n",
        "  with open('./sample_data/orders.csv', 'wb') as f:\n",
        "    f.write(r.content)\n",
        "\n",
        "import_data_files()\n",
        "print(\"Customers and orders CSV files have been added './sample_data'\")"
      ]
    },
    {
      "cell_type": "markdown",
      "metadata": {
        "id": "JQAduY-RWKyB"
      },
      "source": [
        "# Ejercicio 1: Procesamiento de Datos de Clientes (dificultad media)\n",
        "\n",
        "Los datos de muestra de clientes en el archivo 'customers.csv' tienen solo 5 columnas: CustomerId, First Name, Last Name, City y State.\n",
        "\n",
        "![Muestra de datos](https://raw.githubusercontent.com/fpellerano/itu/main/customers.png)\n",
        "\n",
        "Recomendamos encarecidamente que completes la práctia previa:\n",
        "- Sección 7: Entrada/Salida de Archivos (para entender cómo leer un archivo CSV)\n",
        "- Sección 6: Bucle For (para navegar por el contenido del archivo CSV)\n",
        "- Sección 5: Tuplas, Listas y Diccionarios (para manipular los datos del archivo CSV)\n",
        "\n",
        "Con esto, esperamos que puedas completar con éxito este ejercicio. Sin embargo, si deseas resolverlo utilizando bibliotecas u otro método, siéntete libre de hacerlo a tu manera.\n",
        "\n",
        "*Pista:* Te recomendamos que eches un vistazo a los datos antes de comenzar.\n",
        "**Si deseas ver los datos manualmente antes de comenzar, consulta el contenido de los datos [aquí](https://raw.githubusercontent.com/fpellerano/itu/main/customers.csv).\n",
        "\n",
        "*Pista:* Hay muchas maneras de resolver este ejercicio, y puedes hacerlo tú mismo, pero aquí te ofrecemos algo de ayuda. Puedes resolver este ejercicio leyendo y analizando archivos CSV, estructurando datos en diccionarios y usando bucles for para navegar por los contenidos.\n",
        "\n",
        "*Sugerencia:* Además, ten en cuenta que los datos pueden no estar limpios, y deberás descubrir cómo manejarlos desde el código sin modificar la fuente de datos.\n",
        "\n",
        "A continuación, se presentan las 5 preguntas que deberás responder para aprobar la evaluación:"
      ]
    },
    {
      "cell_type": "markdown",
      "metadata": {
        "id": "kJq7S8sBfbOW"
      },
      "source": [
        "**Pregunta 1:** ¿Cuántos clientes hay en el expediente?\n",
        "(como ayuda, hemos agregado algunos comentarios y un código de inicio para ayudarlo a estructurar la solución)"
      ]
    },
    {
      "cell_type": "code",
      "execution_count": 5,
      "metadata": {
        "colab": {
          "base_uri": "https://localhost:8080/"
        },
        "id": "oMnUFBFb2RUb",
        "outputId": "45ee9961-efcb-4546-a09f-5f65b0e0234b"
      },
      "outputs": [
        {
          "name": "stdout",
          "output_type": "stream",
          "text": [
            "All done!\n"
          ]
        }
      ],
      "source": [
        "from os.path import exists\n",
        "import csv\n",
        "\n",
        "# comprobar si se puede encontrar el archivo y abrirlo\n",
        "datafile = \"./sample_data/customers.csv\"\n",
        "if not exists(datafile):\n",
        "  raise SystemExit(\"You should run the first code cell and download the dataset files!\")\n",
        "\n",
        "# archivo de clientes (customer.csv) está en la carpeta sample_data y se puede abrir.\n",
        "# Usar el lector csv es una forma de manejar el archivo\n",
        "# pero depende de ti cómo quieres proceder\n",
        "with open(datafile, 'r') as fl:\n",
        "  csvreader = csv.reader(fl, delimiter=',')\n",
        "\n",
        "# recorra las filas y cuente, etc. ¡EL RESTO DEPENDE DE USTED!\n",
        "\n",
        "\n",
        "print(\"All done!\")"
      ]
    },
    {
      "cell_type": "markdown",
      "metadata": {
        "id": "uffBnNgz_570"
      },
      "source": [
        "**Pregunta 2:** ¿En cuántos estados diferentes viven los clientes?"
      ]
    },
    {
      "cell_type": "code",
      "execution_count": 6,
      "metadata": {
        "id": "Bi_yid0sMe3-"
      },
      "outputs": [],
      "source": [
        "# abrir archivo e iniciar vars\n",
        "# evaluar el contenido del archivo"
      ]
    },
    {
      "cell_type": "markdown",
      "metadata": {
        "id": "DC59SZYiMfNY"
      },
      "source": [
        "**Pregunta 3** ¿Cuál es el estado con más clientes?"
      ]
    },
    {
      "cell_type": "code",
      "execution_count": 7,
      "metadata": {
        "id": "tfGU3w-OMhA9"
      },
      "outputs": [],
      "source": [
        "# abrir archivo e iniciar vars\n",
        "# evaluar el contenido del archivo"
      ]
    },
    {
      "cell_type": "markdown",
      "metadata": {
        "id": "7mcM6cUAMhLB"
      },
      "source": [
        "**Pregunta 4** ¿Cuál es el estado con menos clientes?"
      ]
    },
    {
      "cell_type": "code",
      "execution_count": 8,
      "metadata": {
        "id": "8T0Ka2RqMi3P"
      },
      "outputs": [],
      "source": [
        "# abrir archivo e iniciar vars\n",
        "# evaluar el contenido del archivo"
      ]
    },
    {
      "cell_type": "markdown",
      "metadata": {
        "id": "h6fIy7hXHF6A"
      },
      "source": [
        "Pregunta 5: ¿Cuál es el apellido más común?"
      ]
    },
    {
      "cell_type": "code",
      "execution_count": 9,
      "metadata": {
        "id": "k8M1DmA75Km7"
      },
      "outputs": [],
      "source": [
        "# abrir archivo e iniciar vars\n",
        "# evaluar el contenido del archivo\n"
      ]
    },
    {
      "cell_type": "markdown",
      "metadata": {
        "id": "YPRma1t9NoFk"
      },
      "source": [
        "# Ejercicio 2: Procesamiento de datos de Órdenes (dificultad media)\n",
        "\n",
        "El segundo archivo de muestra contiene pedidos realizados por clientes del primer archivo. Tenga cuidado, este archivo tiene muchas filas y lo más probable es que no deba imprimir el contenido de todo el archivo.\n",
        "\n",
        "El archivo contiene las siguientes columnas: CustomerID, OrderID, Date, OrderTotal, ProductName, Price\n",
        "\n",
        "![Data sample](https://raw.githubusercontent.com/fpellerano/itu/main/orders.png)\n",
        "\n",
        "*Pista:* Te aconsejamos que eches un vistazo a los datos antes de empezar.\n",
        "**si desea ver los datos manualmente antes de comenzar, consulte el contenido de los datos [aquí](https://raw.githubusercontent.com/fpellerano/itu/main/orders.csv).\n",
        "\n",
        "*Pista*: Hay muchas maneras de hacer este ejercicio y puedes hacerlo tú mismo, aunque aquí te ofrecemos algo de ayuda. Puede resolver este ejercicio leyendo y analizando archivos CSV, estructurando datos en diccionarios y usando bucles for para navegar por los contenidos.\n",
        "\n",
        "*Sugerencia*: Además, los datos no están limpios y tendrás que descubrir cómo manejarlos desde el código, sin tener que modificar la fuente de datos.\n",
        "\n",
        "\n",
        "\n",
        "**Pregunta n.º 1:** ¿Cuántos pedidos únicos hay en el archivo pedidos.csv?\n",
        "\n",
        "**Pregunta n.º 2:** ¿Cuál es el número promedio de artículos por pedido (redondeado a dos decimales)?\n",
        "\n",
        "**Pregunta #3:** ¿Cuál es la mayor cantidad de artículos por pedido?\n",
        "\n",
        "**Pregunta #4:** ¿Cuál es la cantidad de pedidos realizados en octubre de 2021?\n",
        "\n",
        "**Pregunta n.º 5:** ¿Qué cliente gastó la mayor cantidad de dinero en 2021?\n",
        "\n",
        "**Pregunta n.º 6:** Históricamente, ¿cuál es el mejor mes para las ventas?\n",
        "\n",
        "Una vez que tengas tus respuestas, recuerda volver al curso y presentarlas en el cuestionario de opción múltiple."
      ]
    },
    {
      "cell_type": "code",
      "execution_count": 10,
      "metadata": {
        "id": "8ipJTrfs5QVM"
      },
      "outputs": [],
      "source": [
        "# abrir y evaluar orders.csv"
      ]
    },
    {
      "cell_type": "markdown",
      "metadata": {
        "id": "ie0JW4FAk6Os"
      },
      "source": [
        "# ¡Finalizado!\n",
        "\n",
        "Espero que esto no haya sido demasiado difícil y que dividir y dividir los conjuntos de datos haya sido divertido."
      ]
    },
    {
      "cell_type": "markdown",
      "metadata": {},
      "source": []
    }
  ],
  "metadata": {
    "colab": {
      "provenance": []
    },
    "kernelspec": {
      "display_name": "Python 3 (ipykernel)",
      "language": "python",
      "name": "python3"
    },
    "language_info": {
      "codemirror_mode": {
        "name": "ipython",
        "version": 3
      },
      "file_extension": ".py",
      "mimetype": "text/x-python",
      "name": "python",
      "nbconvert_exporter": "python",
      "pygments_lexer": "ipython3",
      "version": "3.9.9"
    }
  },
  "nbformat": 4,
  "nbformat_minor": 0
}
